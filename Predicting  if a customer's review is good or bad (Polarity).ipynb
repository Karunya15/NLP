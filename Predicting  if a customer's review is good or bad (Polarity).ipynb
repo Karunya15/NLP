{
 "cells": [
  {
   "cell_type": "code",
   "execution_count": 1,
   "metadata": {},
   "outputs": [
    {
     "name": "stdout",
     "output_type": "stream",
     "text": [
      "Requirement already satisfied: stopwords in c:\\users\\karunya\\appdata\\local\\programs\\python\\python38-32\\lib\\site-packages (0.1.3)\n"
     ]
    }
   ],
   "source": [
    "!pip install stopwords"
   ]
  },
  {
   "cell_type": "code",
   "execution_count": 19,
   "metadata": {},
   "outputs": [],
   "source": [
    "import numpy as np\n",
    "import pandas as pd\n",
    "import matplotlib.pyplot as plt\n",
    "import re\n",
    "import string\n",
    "import nltk\n",
    "from nltk.corpus import stopwords\n",
    "import seaborn as sns\n",
    "from nltk import word_tokenize \n",
    "import string\n",
    "string.punctuation #pre-defined in the string module,containing all the characters as a string\n",
    "from nltk.stem import WordNetLemmatizer\n",
    "\n"
   ]
  },
  {
   "cell_type": "code",
   "execution_count": 3,
   "metadata": {},
   "outputs": [],
   "source": [
    "#LOAD THE TRAIN AND TEST DATASETS"
   ]
  },
  {
   "cell_type": "code",
   "execution_count": 4,
   "metadata": {},
   "outputs": [
    {
     "data": {
      "text/html": [
       "<div>\n",
       "<style scoped>\n",
       "    .dataframe tbody tr th:only-of-type {\n",
       "        vertical-align: middle;\n",
       "    }\n",
       "\n",
       "    .dataframe tbody tr th {\n",
       "        vertical-align: top;\n",
       "    }\n",
       "\n",
       "    .dataframe thead th {\n",
       "        text-align: right;\n",
       "    }\n",
       "</style>\n",
       "<table border=\"1\" class=\"dataframe\">\n",
       "  <thead>\n",
       "    <tr style=\"text-align: right;\">\n",
       "      <th></th>\n",
       "      <th>UserID</th>\n",
       "      <th>ReviewText</th>\n",
       "      <th>Polarity</th>\n",
       "    </tr>\n",
       "  </thead>\n",
       "  <tbody>\n",
       "    <tr>\n",
       "      <th>0</th>\n",
       "      <td>13131</td>\n",
       "      <td>Awful! Awful! Awful! No, didn't like it. obvio...</td>\n",
       "      <td>0</td>\n",
       "    </tr>\n",
       "    <tr>\n",
       "      <th>1</th>\n",
       "      <td>13827</td>\n",
       "      <td>John (Ben Chaplin) lonely bank clerk lives sma...</td>\n",
       "      <td>1</td>\n",
       "    </tr>\n",
       "    <tr>\n",
       "      <th>2</th>\n",
       "      <td>3912</td>\n",
       "      <td>Stoic laconic soldier Sergeant Todd (a fine cr...</td>\n",
       "      <td>1</td>\n",
       "    </tr>\n",
       "    <tr>\n",
       "      <th>3</th>\n",
       "      <td>14762</td>\n",
       "      <td>excited see film always heard scary.&lt;br /&gt;&lt;br ...</td>\n",
       "      <td>1</td>\n",
       "    </tr>\n",
       "    <tr>\n",
       "      <th>4</th>\n",
       "      <td>7369</td>\n",
       "      <td>Jungle Fever highly stylized, stereotyped, com...</td>\n",
       "      <td>0</td>\n",
       "    </tr>\n",
       "  </tbody>\n",
       "</table>\n",
       "</div>"
      ],
      "text/plain": [
       "   UserID                                         ReviewText  Polarity\n",
       "0   13131  Awful! Awful! Awful! No, didn't like it. obvio...         0\n",
       "1   13827  John (Ben Chaplin) lonely bank clerk lives sma...         1\n",
       "2    3912  Stoic laconic soldier Sergeant Todd (a fine cr...         1\n",
       "3   14762  excited see film always heard scary.<br /><br ...         1\n",
       "4    7369  Jungle Fever highly stylized, stereotyped, com...         0"
      ]
     },
     "execution_count": 4,
     "metadata": {},
     "output_type": "execute_result"
    }
   ],
   "source": [
    "train = pd.read_csv('TrainData.csv', encoding = 'ISO-8859-1')\n",
    "\n",
    "train.head()"
   ]
  },
  {
   "cell_type": "code",
   "execution_count": 5,
   "metadata": {},
   "outputs": [
    {
     "data": {
      "text/plain": [
       "(16750, 3)"
      ]
     },
     "execution_count": 5,
     "metadata": {},
     "output_type": "execute_result"
    }
   ],
   "source": [
    "train.shape"
   ]
  },
  {
   "cell_type": "code",
   "execution_count": 6,
   "metadata": {},
   "outputs": [
    {
     "data": {
      "text/html": [
       "<div>\n",
       "<style scoped>\n",
       "    .dataframe tbody tr th:only-of-type {\n",
       "        vertical-align: middle;\n",
       "    }\n",
       "\n",
       "    .dataframe tbody tr th {\n",
       "        vertical-align: top;\n",
       "    }\n",
       "\n",
       "    .dataframe thead th {\n",
       "        text-align: right;\n",
       "    }\n",
       "</style>\n",
       "<table border=\"1\" class=\"dataframe\">\n",
       "  <thead>\n",
       "    <tr style=\"text-align: right;\">\n",
       "      <th></th>\n",
       "      <th>UserID</th>\n",
       "      <th>ReviewText</th>\n",
       "    </tr>\n",
       "  </thead>\n",
       "  <tbody>\n",
       "    <tr>\n",
       "      <th>0</th>\n",
       "      <td>7868</td>\n",
       "      <td>'The Luzhin Defence' good film fine central pe...</td>\n",
       "    </tr>\n",
       "    <tr>\n",
       "      <th>1</th>\n",
       "      <td>25016</td>\n",
       "      <td>Cannon Movie Tale worst lot, positive proof fi...</td>\n",
       "    </tr>\n",
       "    <tr>\n",
       "      <th>2</th>\n",
       "      <td>10668</td>\n",
       "      <td>full length feature film world bridge. found f...</td>\n",
       "    </tr>\n",
       "    <tr>\n",
       "      <th>3</th>\n",
       "      <td>14640</td>\n",
       "      <td>Soloist ingredients impress Academy. director,...</td>\n",
       "    </tr>\n",
       "    <tr>\n",
       "      <th>4</th>\n",
       "      <td>15018</td>\n",
       "      <td>saw back '94 finally released. Apparently Orio...</td>\n",
       "    </tr>\n",
       "  </tbody>\n",
       "</table>\n",
       "</div>"
      ],
      "text/plain": [
       "   UserID                                         ReviewText\n",
       "0    7868  'The Luzhin Defence' good film fine central pe...\n",
       "1   25016  Cannon Movie Tale worst lot, positive proof fi...\n",
       "2   10668  full length feature film world bridge. found f...\n",
       "3   14640  Soloist ingredients impress Academy. director,...\n",
       "4   15018  saw back '94 finally released. Apparently Orio..."
      ]
     },
     "execution_count": 6,
     "metadata": {},
     "output_type": "execute_result"
    }
   ],
   "source": [
    "test = pd.read_csv('TestData.csv', encoding = 'ISO-8859-1')\n",
    "\n",
    "test.head()"
   ]
  },
  {
   "cell_type": "code",
   "execution_count": 7,
   "metadata": {},
   "outputs": [],
   "source": [
    "#BASIC CHECKS FOR THE DATASETS"
   ]
  },
  {
   "cell_type": "code",
   "execution_count": 8,
   "metadata": {},
   "outputs": [
    {
     "data": {
      "text/plain": [
       "(8250, 2)"
      ]
     },
     "execution_count": 8,
     "metadata": {},
     "output_type": "execute_result"
    }
   ],
   "source": [
    "test.shape"
   ]
  },
  {
   "cell_type": "code",
   "execution_count": 9,
   "metadata": {},
   "outputs": [
    {
     "data": {
      "text/plain": [
       "array([0, 1], dtype=int64)"
      ]
     },
     "execution_count": 9,
     "metadata": {},
     "output_type": "execute_result"
    }
   ],
   "source": [
    "\n",
    "train.Polarity.unique()"
   ]
  },
  {
   "cell_type": "code",
   "execution_count": 10,
   "metadata": {},
   "outputs": [
    {
     "name": "stdout",
     "output_type": "stream",
     "text": [
      "0    8403\n",
      "1    8347\n",
      "Name: Polarity, dtype: int64\n"
     ]
    }
   ],
   "source": [
    "Polarity = train.Polarity.value_counts()\n",
    "print(Polarity)"
   ]
  },
  {
   "cell_type": "code",
   "execution_count": 11,
   "metadata": {},
   "outputs": [],
   "source": [
    "#DISTRIBUTION OF THE TARGET VARIABLE:'POLARITY' IN THE TRAIN DATASET"
   ]
  },
  {
   "cell_type": "code",
   "execution_count": 12,
   "metadata": {},
   "outputs": [
    {
     "name": "stderr",
     "output_type": "stream",
     "text": [
      "c:\\users\\karunya\\appdata\\local\\programs\\python\\python38-32\\lib\\site-packages\\seaborn\\_decorators.py:36: FutureWarning: Pass the following variables as keyword args: x, y. From version 0.12, the only valid positional argument will be `data`, and passing other arguments without an explicit keyword will result in an error or misinterpretation.\n",
      "  warnings.warn(\n"
     ]
    },
    {
     "data": {
      "image/png": "[encoded data removed]",
      "text/plain": [
       "<Figure size 720x432 with 1 Axes>"
      ]
     },
     "metadata": {
      "needs_background": "light"
     },
     "output_type": "display_data"
    }
   ],
   "source": [
    "import seaborn as sns\n",
    "x=train['Polarity'].value_counts()\n",
    "x=x.sort_index()\n",
    "plt.figure(figsize=(10,6))\n",
    "ax= sns.barplot(x.index, x.values, alpha=0.8)\n",
    "plt.title(\"Polarity Distribution\")\n",
    "plt.ylabel('count')\n",
    "plt.xlabel('polarity')\n",
    "rects = ax.patches\n",
    "labels = x.values\n",
    "for rect, label in zip(rects, labels):\n",
    "    height = rect.get_height()\n",
    "    ax.text(rect.get_x() + rect.get_width()/2, height + 5, label, ha='center', va='bottom')\n",
    "plt.show();"
   ]
  },
  {
   "cell_type": "code",
   "execution_count": 13,
   "metadata": {},
   "outputs": [
    {
     "data": {
      "text/plain": [
       "UserID        0\n",
       "ReviewText    0\n",
       "Polarity      0\n",
       "dtype: int64"
      ]
     },
     "execution_count": 13,
     "metadata": {},
     "output_type": "execute_result"
    }
   ],
   "source": [
    "#checking of null values\n",
    "train.isnull().sum()"
   ]
  },
  {
   "cell_type": "code",
   "execution_count": 14,
   "metadata": {},
   "outputs": [
    {
     "data": {
      "text/plain": [
       "UserID        0\n",
       "ReviewText    0\n",
       "dtype: int64"
      ]
     },
     "execution_count": 14,
     "metadata": {},
     "output_type": "execute_result"
    }
   ],
   "source": [
    "test.isnull().sum()"
   ]
  },
  {
   "cell_type": "code",
   "execution_count": 15,
   "metadata": {},
   "outputs": [],
   "source": [
    "# text preprocessing helper functions\n",
    "ReviewText = '''Awful! Awful! Awful! No, didn't like it. obvious intent film was: track wheeling dealing \"movers shakers\" produce film. cases, people represent are. didn't need film tell shallow people film industry are. suppose I'm fault really expected something like \"Roman Holiday\".<br /><br />I'm movie-maker take film classes appeared film consisted series 'two-shots' (in main) actors(!) supplied loose plot-line improvise dialogue. Henry Jaglon makes claim along Victoria Foyt actually wrote screenplay impression actors, cognisant general direction film, extemporised dialogue - always successful. case point Ron Silver made remark really didn't flow along line conversation (and I'm going back look it!) Greta Scacchi broke laughter even though supposed serious conversation, Silver's remark non sequitur. get impression one actor deliberately tries 'wrong foot' actor break his/her concentration. Another instance producer tells Silver \"bring &*%#@#^ documents\" (3 times). Silver looked literally lost words. seen one film looked like series drama workshops improvisation awful too!<br /><br />The fact Jaglon able attract Greta Scacchi (no stranger Australia), Ron Silver, Anouk Ami, Maximilian Schell suggests 'slow news week' them. Peter Bogdanovich 'what-the-hell-am-I-doing-here' look face times expected hear say: \"Look, I'm director screenwriter - actor\" - would unnecessary state! Faye Dunaway seemed interested promoting son, Liam. Apart jerky delivery dialogue, hand-held camera became irritating even verisimilitude - suspect \"natural\" dialogue - interest principals became subsumed interest various youths walking along strand trying insinuate shot. least approached Cinema Verite. that, along irritating French singing used mute button, made generally disappointing 90-odd minutes.<br /><br />I think avoid apotheosising films this. Trying see value film little credit order substantiate perceived transcendental level misguided. really nothing avant-garde it. didn't come across work art yet wasn't documentary either. know, mocumentary real test whether entertaining. bored skull! one redeeming feature: pronounced 'Cannes' correctly gave 3/10.'''"
   ]
  },
  {
   "cell_type": "code",
   "execution_count": 16,
   "metadata": {},
   "outputs": [],
   "source": [
    "# text preprocessing helper functions\n",
    "def clean_text(ReviewText):\n",
    "    '''Make text lowercase, remove text in square brackets,remove links,remove punctuation\n",
    "    and remove words containing numbers.'''\n",
    "    ReviewText = ReviewText.lower()\n",
    "    ReviewText = re.sub('https?://\\S+|www\\.\\S+', '', ReviewText)\n",
    "    ReviewText = re.sub('<.*?>+', '', ReviewText)\n",
    "    ReviewText = re.sub('[%s]' % re.escape(string.punctuation), '', ReviewText)\n",
    "    ReviewText = re.sub('\\n', '', ReviewText)\n",
    "    ReviewText = re.sub('\\w*\\d\\w*', '', ReviewText)\n",
    "    return ReviewText\n",
    "\n",
    "\n",
    "def text_preprocessing(ReviewText):\n",
    "    \"\"\"\n",
    "    Cleaning and parsing the text.\n",
    "\n",
    "    \"\"\"\n",
    "    tokenizer = nltk.tokenize.RegexpTokenizer(r'\\w+')\n",
    "    nopunc = clean_text(ReviewText)\n",
    "    tokenized_text = tokenizer.tokenize(nopunc)\n",
    "    #remove_stopwords = [w for w in tokenized_text if w not in stopwords.words('english')]\n",
    "    combined_text = ' '.join(tokenized_text)\n",
    "    return combined_text\n",
    "\n",
    "#clean_text() function applies a first round of text cleaning techniques.\n",
    "#the function text_preprocessing() then takes in the processed text from the clean_text() function and applies techniques like tokenization and stop word removal."
   ]
  },
  {
   "cell_type": "code",
   "execution_count": 17,
   "metadata": {},
   "outputs": [
    {
     "name": "stdout",
     "output_type": "stream",
     "text": [
      "Awful! Awful! Awful! No, didn't like it. obvious intent film was: track wheeling dealing \"movers shakers\" produce film. cases, people represent are. didn't need film tell shallow people film industry are. suppose I'm fault really expected something like \"Roman Holiday\".<br /><br />I'm movie-maker take film classes appeared film consisted series 'two-shots' (in main) actors(!) supplied loose plot-line improvise dialogue. Henry Jaglon makes claim along Victoria Foyt actually wrote screenplay impression actors, cognisant general direction film, extemporised dialogue - always successful. case point Ron Silver made remark really didn't flow along line conversation (and I'm going back look it!) Greta Scacchi broke laughter even though supposed serious conversation, Silver's remark non sequitur. get impression one actor deliberately tries 'wrong foot' actor break his/her concentration. Another instance producer tells Silver \"bring &*%#@#^ documents\" (3 times). Silver looked literally lost words. seen one film looked like series drama workshops improvisation awful too!<br /><br />The fact Jaglon able attract Greta Scacchi (no stranger Australia), Ron Silver, Anouk Ami, Maximilian Schell suggests 'slow news week' them. Peter Bogdanovich 'what-the-hell-am-I-doing-here' look face times expected hear say: \"Look, I'm director screenwriter - actor\" - would unnecessary state! Faye Dunaway seemed interested promoting son, Liam. Apart jerky delivery dialogue, hand-held camera became irritating even verisimilitude - suspect \"natural\" dialogue - interest principals became subsumed interest various youths walking along strand trying insinuate shot. least approached Cinema Verite. that, along irritating French singing used mute button, made generally disappointing 90-odd minutes.<br /><br />I think avoid apotheosising films this. Trying see value film little credit order substantiate perceived transcendental level misguided. really nothing avant-garde it. didn't come across work art yet wasn't documentary either. know, mocumentary real test whether entertaining. bored skull! one redeeming feature: pronounced 'Cannes' correctly gave 3/10.\n"
     ]
    }
   ],
   "source": [
    "print(ReviewText)"
   ]
  },
  {
   "cell_type": "code",
   "execution_count": 18,
   "metadata": {},
   "outputs": [],
   "source": [
    "# Applying the cleaning function to both test and training datasets\n",
    "\n",
    "train['text_clean'] = train['ReviewText'].apply(str).apply(lambda x: text_preprocessing(x))\n",
    "test['text_clean'] = test['ReviewText'].apply(str).apply(lambda x: text_preprocessing(x))"
   ]
  },
  {
   "cell_type": "code",
   "execution_count": 20,
   "metadata": {},
   "outputs": [],
   "source": [
    "lm = WordNetLemmatizer()\n",
    "#lemmetizing to analyse the words as a single item\n",
    "\n",
    "def own_analyser(review):\n",
    "    review = review.split()\n",
    "    for i in range(0,len(review)):\n",
    "        k = review.pop(0)\n",
    "        if k not in string.punctuation:\n",
    "                review.append(lm.lemmatize(k).lower())    \n",
    "    return review"
   ]
  },
  {
   "cell_type": "code",
   "execution_count": 21,
   "metadata": {},
   "outputs": [
    {
     "data": {
      "text/plain": [
       "0        [w, f, u, l,  , w, f, u, l,  , w, f, u, l,  , ...\n",
       "1        [j, h, n,  , b, e, n,  , c, h, p, l, n,  , l, ...\n",
       "2        [c,  , l, c, n, c,  , l, e, r,  , e, r, g, e, ...\n",
       "3        [e, x, c, e,  , e, e,  , f, l,  , l, w,  , h, ...\n",
       "4        [j, u, n, g, l, e,  , f, e, v, e, r,  , h, g, ...\n",
       "                               ...                        \n",
       "16745    [l, k, e,  , q, u, e,  , n, r,  , f, r,  , p, ...\n",
       "16746    [h, u, g, h,  , e, q, u, e, l,  , r,  , e, n, ...\n",
       "16747    [l,  , l, k, e,  , h, e, r, e,  , c, r,  , f, ...\n",
       "16748    [h, g, h, l,  , r, e, c, e, n,  , f, l,  , e, ...\n",
       "16749    [b, l, l,  , e,  , b, c, k,  , e,  , e, v, l, ...\n",
       "Name: text_clean, Length: 16750, dtype: object"
      ]
     },
     "execution_count": 21,
     "metadata": {},
     "output_type": "execute_result"
    }
   ],
   "source": [
    "stop = stopwords.words('english')\n",
    "train['text_clean'].apply(lambda x: [item for item in x if item not in stop])"
   ]
  },
  {
   "cell_type": "code",
   "execution_count": 22,
   "metadata": {},
   "outputs": [
    {
     "data": {
      "text/plain": [
       "0       [h, e,  , l, u, z, h, n,  , e, f, e, n, c, e, ...\n",
       "1       [c, n, n, n,  , v, e,  , l, e,  , w, r,  , l, ...\n",
       "2       [f, u, l, l,  , l, e, n, g, h,  , f, e, u, r, ...\n",
       "3       [l,  , n, g, r, e, e, n,  , p, r, e,  , c, e, ...\n",
       "4       [w,  , b, c, k,  , f, n, l, l,  , r, e, l, e, ...\n",
       "                              ...                        \n",
       "8245    [v, c,  , r, c, h, r,  , r, e, f, u,  , b,  , ...\n",
       "8246    [p, n, c,  , n, e, v, e, r,  , g,  , g,  , h, ...\n",
       "8247    [p, l, n, g,  , k, l, e, h, p, p, e, r,  , c, ...\n",
       "8248    [u,  , n, e,  , w, r,  , v, e,  , e, v, e, r, ...\n",
       "8249    [w, n, e, r, f, u, l,  , v, e,  , l,  , w,  , ...\n",
       "Name: text_clean, Length: 8250, dtype: object"
      ]
     },
     "execution_count": 22,
     "metadata": {},
     "output_type": "execute_result"
    }
   ],
   "source": [
    "test['text_clean'].apply(lambda x: [item for item in x if item not in stop])"
   ]
  },
  {
   "cell_type": "code",
   "execution_count": 23,
   "metadata": {},
   "outputs": [
    {
     "data": {
      "text/html": [
       "<div>\n",
       "<style scoped>\n",
       "    .dataframe tbody tr th:only-of-type {\n",
       "        vertical-align: middle;\n",
       "    }\n",
       "\n",
       "    .dataframe tbody tr th {\n",
       "        vertical-align: top;\n",
       "    }\n",
       "\n",
       "    .dataframe thead th {\n",
       "        text-align: right;\n",
       "    }\n",
       "</style>\n",
       "<table border=\"1\" class=\"dataframe\">\n",
       "  <thead>\n",
       "    <tr style=\"text-align: right;\">\n",
       "      <th></th>\n",
       "      <th>UserID</th>\n",
       "      <th>Polarity</th>\n",
       "      <th>text_clean</th>\n",
       "    </tr>\n",
       "  </thead>\n",
       "  <tbody>\n",
       "    <tr>\n",
       "      <th>0</th>\n",
       "      <td>13131</td>\n",
       "      <td>0</td>\n",
       "      <td>awful awful awful no didnt like it obvious int...</td>\n",
       "    </tr>\n",
       "    <tr>\n",
       "      <th>1</th>\n",
       "      <td>13827</td>\n",
       "      <td>1</td>\n",
       "      <td>john ben chaplin lonely bank clerk lives small...</td>\n",
       "    </tr>\n",
       "    <tr>\n",
       "      <th>2</th>\n",
       "      <td>3912</td>\n",
       "      <td>1</td>\n",
       "      <td>stoic laconic soldier sergeant todd a fine cre...</td>\n",
       "    </tr>\n",
       "    <tr>\n",
       "      <th>3</th>\n",
       "      <td>14762</td>\n",
       "      <td>1</td>\n",
       "      <td>excited see film always heard scarywhats inter...</td>\n",
       "    </tr>\n",
       "    <tr>\n",
       "      <th>4</th>\n",
       "      <td>7369</td>\n",
       "      <td>0</td>\n",
       "      <td>jungle fever highly stylized stereotyped comes...</td>\n",
       "    </tr>\n",
       "  </tbody>\n",
       "</table>\n",
       "</div>"
      ],
      "text/plain": [
       "   UserID  Polarity                                         text_clean\n",
       "0   13131         0  awful awful awful no didnt like it obvious int...\n",
       "1   13827         1  john ben chaplin lonely bank clerk lives small...\n",
       "2    3912         1  stoic laconic soldier sergeant todd a fine cre...\n",
       "3   14762         1  excited see film always heard scarywhats inter...\n",
       "4    7369         0  jungle fever highly stylized stereotyped comes..."
      ]
     },
     "execution_count": 23,
     "metadata": {},
     "output_type": "execute_result"
    }
   ],
   "source": [
    "train = train.drop(['ReviewText'], axis=1)\n",
    "train.head()"
   ]
  },
  {
   "cell_type": "code",
   "execution_count": 24,
   "metadata": {},
   "outputs": [
    {
     "data": {
      "text/html": [
       "<div>\n",
       "<style scoped>\n",
       "    .dataframe tbody tr th:only-of-type {\n",
       "        vertical-align: middle;\n",
       "    }\n",
       "\n",
       "    .dataframe tbody tr th {\n",
       "        vertical-align: top;\n",
       "    }\n",
       "\n",
       "    .dataframe thead th {\n",
       "        text-align: right;\n",
       "    }\n",
       "</style>\n",
       "<table border=\"1\" class=\"dataframe\">\n",
       "  <thead>\n",
       "    <tr style=\"text-align: right;\">\n",
       "      <th></th>\n",
       "      <th>UserID</th>\n",
       "      <th>text_clean</th>\n",
       "    </tr>\n",
       "  </thead>\n",
       "  <tbody>\n",
       "    <tr>\n",
       "      <th>0</th>\n",
       "      <td>7868</td>\n",
       "      <td>the luzhin defence good film fine central perf...</td>\n",
       "    </tr>\n",
       "    <tr>\n",
       "      <th>1</th>\n",
       "      <td>25016</td>\n",
       "      <td>cannon movie tale worst lot positive proof fiv...</td>\n",
       "    </tr>\n",
       "    <tr>\n",
       "      <th>2</th>\n",
       "      <td>10668</td>\n",
       "      <td>full length feature film world bridge found fi...</td>\n",
       "    </tr>\n",
       "    <tr>\n",
       "      <th>3</th>\n",
       "      <td>14640</td>\n",
       "      <td>soloist ingredients impress academy director j...</td>\n",
       "    </tr>\n",
       "    <tr>\n",
       "      <th>4</th>\n",
       "      <td>15018</td>\n",
       "      <td>saw back finally released apparently orion pic...</td>\n",
       "    </tr>\n",
       "  </tbody>\n",
       "</table>\n",
       "</div>"
      ],
      "text/plain": [
       "   UserID                                         text_clean\n",
       "0    7868  the luzhin defence good film fine central perf...\n",
       "1   25016  cannon movie tale worst lot positive proof fiv...\n",
       "2   10668  full length feature film world bridge found fi...\n",
       "3   14640  soloist ingredients impress academy director j...\n",
       "4   15018  saw back finally released apparently orion pic..."
      ]
     },
     "execution_count": 24,
     "metadata": {},
     "output_type": "execute_result"
    }
   ],
   "source": [
    "test = test.drop(['ReviewText'], axis=1)\n",
    "test.head()"
   ]
  },
  {
   "cell_type": "code",
   "execution_count": 26,
   "metadata": {},
   "outputs": [],
   "source": [
    "lm = WordNetLemmatizer()\n",
    "#lemmetizing to analyse the words as a single item\n",
    "\n",
    "def own_analyser(review):\n",
    "    review = review.split()\n",
    "    for i in range(0,len(review)):\n",
    "        k = review.pop(0)\n",
    "        if k not in string.punctuation:\n",
    "                review.append(lm.lemmatize(k).lower())    \n",
    "    return review"
   ]
  },
  {
   "cell_type": "code",
   "execution_count": 27,
   "metadata": {},
   "outputs": [],
   "source": [
    "X=train.text_clean\n",
    "y=train.Polarity"
   ]
  },
  {
   "cell_type": "code",
   "execution_count": 28,
   "metadata": {},
   "outputs": [],
   "source": [
    "from sklearn.model_selection import train_test_split\n",
    "phrase_train,phrase_test,sentiment_train,sentiment_test = train_test_split(X,y,test_size=0.3)"
   ]
  },
  {
   "cell_type": "code",
   "execution_count": 29,
   "metadata": {},
   "outputs": [],
   "source": [
    "from sklearn.feature_extraction.text import CountVectorizer\n",
    "from sklearn.feature_extraction.text import TfidfTransformer\n",
    "from sklearn.naive_bayes import MultinomialNB\n",
    "from sklearn.naive_bayes import BernoulliNB\n",
    "from sklearn.svm import LinearSVC\n",
    "from sklearn.linear_model import LogisticRegression\n",
    "from sklearn.ensemble import RandomForestClassifier\n",
    "from sklearn.metrics import accuracy_score"
   ]
  },
  {
   "cell_type": "markdown",
   "metadata": {},
   "source": [
    "# MODEL BUILDING FOR THE TRAIN DATASET"
   ]
  },
  {
   "cell_type": "markdown",
   "metadata": {},
   "source": [
    "# ✔ NAIVE BAYES (MULTINOMIAL)"
   ]
  },
  {
   "cell_type": "code",
   "execution_count": 30,
   "metadata": {},
   "outputs": [],
   "source": [
    "#Using pipeline feature of sklearn \n",
    "#pipeline feature is good to use for feature selection"
   ]
  },
  {
   "cell_type": "code",
   "execution_count": 31,
   "metadata": {},
   "outputs": [],
   "source": [
    "from sklearn.pipeline import Pipeline\n",
    "\n",
    "pipeline = Pipeline([('BOW',CountVectorizer(analyzer=own_analyser)),\n",
    "                    ('tfidf',TfidfTransformer()),\n",
    "                    ('classifier',MultinomialNB())])"
   ]
  },
  {
   "cell_type": "code",
   "execution_count": 32,
   "metadata": {},
   "outputs": [
    {
     "data": {
      "text/plain": [
       "Pipeline(steps=[('BOW',\n",
       "                 CountVectorizer(analyzer=<function own_analyser at 0x1264BB68>)),\n",
       "                ('tfidf', TfidfTransformer()),\n",
       "                ('classifier', MultinomialNB())])"
      ]
     },
     "execution_count": 32,
     "metadata": {},
     "output_type": "execute_result"
    }
   ],
   "source": [
    "pipeline.fit(phrase_train,sentiment_train)"
   ]
  },
  {
   "cell_type": "code",
   "execution_count": 33,
   "metadata": {},
   "outputs": [],
   "source": [
    "predictions = pipeline.predict(phrase_test)"
   ]
  },
  {
   "cell_type": "code",
   "execution_count": 34,
   "metadata": {},
   "outputs": [],
   "source": [
    "from sklearn.metrics import classification_report"
   ]
  },
  {
   "cell_type": "code",
   "execution_count": 35,
   "metadata": {},
   "outputs": [
    {
     "name": "stdout",
     "output_type": "stream",
     "text": [
      "              precision    recall  f1-score   support\n",
      "\n",
      "           0       0.85      0.88      0.86      2550\n",
      "           1       0.87      0.84      0.86      2475\n",
      "\n",
      "    accuracy                           0.86      5025\n",
      "   macro avg       0.86      0.86      0.86      5025\n",
      "weighted avg       0.86      0.86      0.86      5025\n",
      "\n"
     ]
    }
   ],
   "source": [
    "print(classification_report(sentiment_test,predictions))"
   ]
  },
  {
   "cell_type": "markdown",
   "metadata": {},
   "source": [
    "# ✔ NAIVE BAYES (BERNOULLI)"
   ]
  },
  {
   "cell_type": "code",
   "execution_count": 36,
   "metadata": {},
   "outputs": [],
   "source": [
    "from sklearn.pipeline import Pipeline\n",
    "\n",
    "pipeline0 = Pipeline([('BOW',CountVectorizer(analyzer=own_analyser)),\n",
    "                    ('tfidf',TfidfTransformer()),\n",
    "                    ('classifier',BernoulliNB())])"
   ]
  },
  {
   "cell_type": "code",
   "execution_count": 37,
   "metadata": {},
   "outputs": [
    {
     "data": {
      "text/plain": [
       "Pipeline(steps=[('BOW',\n",
       "                 CountVectorizer(analyzer=<function own_analyser at 0x1264BB68>)),\n",
       "                ('tfidf', TfidfTransformer()), ('classifier', BernoulliNB())])"
      ]
     },
     "execution_count": 37,
     "metadata": {},
     "output_type": "execute_result"
    }
   ],
   "source": [
    "pipeline0.fit(phrase_train,sentiment_train)"
   ]
  },
  {
   "cell_type": "code",
   "execution_count": 38,
   "metadata": {},
   "outputs": [],
   "source": [
    "predictionsBernoulli = pipeline0.predict(phrase_test)"
   ]
  },
  {
   "cell_type": "code",
   "execution_count": 39,
   "metadata": {},
   "outputs": [
    {
     "name": "stdout",
     "output_type": "stream",
     "text": [
      "              precision    recall  f1-score   support\n",
      "\n",
      "           0       0.82      0.88      0.85      2550\n",
      "           1       0.87      0.80      0.83      2475\n",
      "\n",
      "    accuracy                           0.84      5025\n",
      "   macro avg       0.84      0.84      0.84      5025\n",
      "weighted avg       0.84      0.84      0.84      5025\n",
      "\n"
     ]
    }
   ],
   "source": [
    "print(classification_report(sentiment_test,predictionsBernoulli))"
   ]
  },
  {
   "cell_type": "markdown",
   "metadata": {},
   "source": [
    "# ✔ LINEAR SVC"
   ]
  },
  {
   "cell_type": "code",
   "execution_count": 40,
   "metadata": {},
   "outputs": [],
   "source": [
    "from sklearn.pipeline import Pipeline\n",
    "\n",
    "pipeline1 = Pipeline([('BOW',CountVectorizer(analyzer=own_analyser)),\n",
    "                    ('tfidf',TfidfTransformer()),\n",
    "                    ('classifier',LinearSVC())])"
   ]
  },
  {
   "cell_type": "code",
   "execution_count": 41,
   "metadata": {},
   "outputs": [
    {
     "data": {
      "text/plain": [
       "Pipeline(steps=[('BOW',\n",
       "                 CountVectorizer(analyzer=<function own_analyser at 0x1264BB68>)),\n",
       "                ('tfidf', TfidfTransformer()), ('classifier', LinearSVC())])"
      ]
     },
     "execution_count": 41,
     "metadata": {},
     "output_type": "execute_result"
    }
   ],
   "source": [
    "pipeline1.fit(phrase_train,sentiment_train)"
   ]
  },
  {
   "cell_type": "code",
   "execution_count": 42,
   "metadata": {},
   "outputs": [],
   "source": [
    "predictionsSVC = pipeline1.predict(phrase_test)"
   ]
  },
  {
   "cell_type": "code",
   "execution_count": 43,
   "metadata": {},
   "outputs": [],
   "source": [
    "from sklearn.metrics import classification_report"
   ]
  },
  {
   "cell_type": "code",
   "execution_count": 44,
   "metadata": {},
   "outputs": [
    {
     "name": "stdout",
     "output_type": "stream",
     "text": [
      "              precision    recall  f1-score   support\n",
      "\n",
      "           0       0.90      0.87      0.88      2550\n",
      "           1       0.87      0.90      0.88      2475\n",
      "\n",
      "    accuracy                           0.88      5025\n",
      "   macro avg       0.88      0.88      0.88      5025\n",
      "weighted avg       0.88      0.88      0.88      5025\n",
      "\n"
     ]
    }
   ],
   "source": [
    "print(classification_report(sentiment_test,predictionsSVC))"
   ]
  },
  {
   "cell_type": "markdown",
   "metadata": {},
   "source": [
    "# ✔ LOGISTIC REGRESSION"
   ]
  },
  {
   "cell_type": "code",
   "execution_count": 46,
   "metadata": {},
   "outputs": [],
   "source": [
    "from sklearn.pipeline import Pipeline\n",
    "\n",
    "pipeline2 = Pipeline([('BOW',CountVectorizer(analyzer=own_analyser)),\n",
    "                    ('tfidf',TfidfTransformer()),\n",
    "                    ('classifier',LogisticRegression())])"
   ]
  },
  {
   "cell_type": "code",
   "execution_count": 47,
   "metadata": {},
   "outputs": [
    {
     "data": {
      "text/plain": [
       "Pipeline(steps=[('BOW',\n",
       "                 CountVectorizer(analyzer=<function own_analyser at 0x1264BB68>)),\n",
       "                ('tfidf', TfidfTransformer()),\n",
       "                ('classifier', LogisticRegression())])"
      ]
     },
     "execution_count": 47,
     "metadata": {},
     "output_type": "execute_result"
    }
   ],
   "source": [
    "pipeline2.fit(phrase_train,sentiment_train)"
   ]
  },
  {
   "cell_type": "code",
   "execution_count": 48,
   "metadata": {},
   "outputs": [],
   "source": [
    "predictionsLogisticR = pipeline2.predict(phrase_test)"
   ]
  },
  {
   "cell_type": "code",
   "execution_count": 49,
   "metadata": {},
   "outputs": [
    {
     "name": "stdout",
     "output_type": "stream",
     "text": [
      "              precision    recall  f1-score   support\n",
      "\n",
      "           0       0.89      0.86      0.88      2550\n",
      "           1       0.86      0.90      0.88      2475\n",
      "\n",
      "    accuracy                           0.88      5025\n",
      "   macro avg       0.88      0.88      0.88      5025\n",
      "weighted avg       0.88      0.88      0.88      5025\n",
      "\n"
     ]
    }
   ],
   "source": [
    "print(classification_report(sentiment_test,predictionsLogisticR))"
   ]
  },
  {
   "cell_type": "markdown",
   "metadata": {},
   "source": [
    "# ✔ RANDOM FOREST CLASSIFIER"
   ]
  },
  {
   "cell_type": "code",
   "execution_count": 50,
   "metadata": {},
   "outputs": [],
   "source": [
    "from sklearn.pipeline import Pipeline\n",
    "\n",
    "pipeline3 = Pipeline([('BOW',CountVectorizer(analyzer=own_analyser)),\n",
    "                    ('tfidf',TfidfTransformer()),\n",
    "                    ('classifier',RandomForestClassifier())])"
   ]
  },
  {
   "cell_type": "code",
   "execution_count": 51,
   "metadata": {},
   "outputs": [
    {
     "data": {
      "text/plain": [
       "Pipeline(steps=[('BOW',\n",
       "                 CountVectorizer(analyzer=<function own_analyser at 0x1264BB68>)),\n",
       "                ('tfidf', TfidfTransformer()),\n",
       "                ('classifier', RandomForestClassifier())])"
      ]
     },
     "execution_count": 51,
     "metadata": {},
     "output_type": "execute_result"
    }
   ],
   "source": [
    "pipeline3.fit(phrase_train,sentiment_train)"
   ]
  },
  {
   "cell_type": "code",
   "execution_count": 52,
   "metadata": {},
   "outputs": [],
   "source": [
    "predictionsLogisticR = pipeline3.predict(phrase_test)"
   ]
  },
  {
   "cell_type": "code",
   "execution_count": 53,
   "metadata": {},
   "outputs": [
    {
     "name": "stdout",
     "output_type": "stream",
     "text": [
      "              precision    recall  f1-score   support\n",
      "\n",
      "           0       0.82      0.83      0.83      2550\n",
      "           1       0.83      0.81      0.82      2475\n",
      "\n",
      "    accuracy                           0.82      5025\n",
      "   macro avg       0.82      0.82      0.82      5025\n",
      "weighted avg       0.82      0.82      0.82      5025\n",
      "\n"
     ]
    }
   ],
   "source": [
    "print(classification_report(sentiment_test,predictionsLogisticR))"
   ]
  },
  {
   "cell_type": "markdown",
   "metadata": {},
   "source": [
    "### we get the highest accuracy of 88% from LinearSVC and Logistic Regression"
   ]
  },
  {
   "cell_type": "markdown",
   "metadata": {},
   "source": [
    "# APPLYING IN TEST DATASET"
   ]
  },
  {
   "cell_type": "code",
   "execution_count": 54,
   "metadata": {},
   "outputs": [
    {
     "data": {
      "text/html": [
       "<div>\n",
       "<style scoped>\n",
       "    .dataframe tbody tr th:only-of-type {\n",
       "        vertical-align: middle;\n",
       "    }\n",
       "\n",
       "    .dataframe tbody tr th {\n",
       "        vertical-align: top;\n",
       "    }\n",
       "\n",
       "    .dataframe thead th {\n",
       "        text-align: right;\n",
       "    }\n",
       "</style>\n",
       "<table border=\"1\" class=\"dataframe\">\n",
       "  <thead>\n",
       "    <tr style=\"text-align: right;\">\n",
       "      <th></th>\n",
       "      <th>Unnamed: 0</th>\n",
       "      <th>UserID</th>\n",
       "      <th>ReviewText</th>\n",
       "      <th>text_clean</th>\n",
       "    </tr>\n",
       "  </thead>\n",
       "  <tbody>\n",
       "    <tr>\n",
       "      <th>0</th>\n",
       "      <td>0</td>\n",
       "      <td>7868</td>\n",
       "      <td>'The Luzhin Defence' good film fine central pe...</td>\n",
       "      <td>the luzhin defence good film fine central perf...</td>\n",
       "    </tr>\n",
       "    <tr>\n",
       "      <th>1</th>\n",
       "      <td>1</td>\n",
       "      <td>25016</td>\n",
       "      <td>Cannon Movie Tale worst lot, positive proof fi...</td>\n",
       "      <td>cannon movie tale worst lot positive proof fiv...</td>\n",
       "    </tr>\n",
       "    <tr>\n",
       "      <th>2</th>\n",
       "      <td>2</td>\n",
       "      <td>10668</td>\n",
       "      <td>full length feature film world bridge. found f...</td>\n",
       "      <td>full length feature film world bridge found fi...</td>\n",
       "    </tr>\n",
       "    <tr>\n",
       "      <th>3</th>\n",
       "      <td>3</td>\n",
       "      <td>14640</td>\n",
       "      <td>Soloist ingredients impress Academy. director,...</td>\n",
       "      <td>soloist ingredients impress academy director j...</td>\n",
       "    </tr>\n",
       "    <tr>\n",
       "      <th>4</th>\n",
       "      <td>4</td>\n",
       "      <td>15018</td>\n",
       "      <td>saw back '94 finally released. Apparently Orio...</td>\n",
       "      <td>saw back finally released apparently orion pic...</td>\n",
       "    </tr>\n",
       "  </tbody>\n",
       "</table>\n",
       "</div>"
      ],
      "text/plain": [
       "   Unnamed: 0  UserID                                         ReviewText  \\\n",
       "0           0    7868  'The Luzhin Defence' good film fine central pe...   \n",
       "1           1   25016  Cannon Movie Tale worst lot, positive proof fi...   \n",
       "2           2   10668  full length feature film world bridge. found f...   \n",
       "3           3   14640  Soloist ingredients impress Academy. director,...   \n",
       "4           4   15018  saw back '94 finally released. Apparently Orio...   \n",
       "\n",
       "                                          text_clean  \n",
       "0  the luzhin defence good film fine central perf...  \n",
       "1  cannon movie tale worst lot positive proof fiv...  \n",
       "2  full length feature film world bridge found fi...  \n",
       "3  soloist ingredients impress academy director j...  \n",
       "4  saw back finally released apparently orion pic...  "
      ]
     },
     "execution_count": 54,
     "metadata": {},
     "output_type": "execute_result"
    }
   ],
   "source": [
    "test = pd.read_csv('test_df.csv', encoding = 'ISO-8859-1')\n",
    "\n",
    "test.head()"
   ]
  },
  {
   "cell_type": "code",
   "execution_count": 55,
   "metadata": {},
   "outputs": [
    {
     "data": {
      "text/html": [
       "<div>\n",
       "<style scoped>\n",
       "    .dataframe tbody tr th:only-of-type {\n",
       "        vertical-align: middle;\n",
       "    }\n",
       "\n",
       "    .dataframe tbody tr th {\n",
       "        vertical-align: top;\n",
       "    }\n",
       "\n",
       "    .dataframe thead th {\n",
       "        text-align: right;\n",
       "    }\n",
       "</style>\n",
       "<table border=\"1\" class=\"dataframe\">\n",
       "  <thead>\n",
       "    <tr style=\"text-align: right;\">\n",
       "      <th></th>\n",
       "      <th>UserID</th>\n",
       "      <th>text_clean</th>\n",
       "    </tr>\n",
       "  </thead>\n",
       "  <tbody>\n",
       "    <tr>\n",
       "      <th>0</th>\n",
       "      <td>7868</td>\n",
       "      <td>the luzhin defence good film fine central perf...</td>\n",
       "    </tr>\n",
       "    <tr>\n",
       "      <th>1</th>\n",
       "      <td>25016</td>\n",
       "      <td>cannon movie tale worst lot positive proof fiv...</td>\n",
       "    </tr>\n",
       "    <tr>\n",
       "      <th>2</th>\n",
       "      <td>10668</td>\n",
       "      <td>full length feature film world bridge found fi...</td>\n",
       "    </tr>\n",
       "    <tr>\n",
       "      <th>3</th>\n",
       "      <td>14640</td>\n",
       "      <td>soloist ingredients impress academy director j...</td>\n",
       "    </tr>\n",
       "    <tr>\n",
       "      <th>4</th>\n",
       "      <td>15018</td>\n",
       "      <td>saw back finally released apparently orion pic...</td>\n",
       "    </tr>\n",
       "  </tbody>\n",
       "</table>\n",
       "</div>"
      ],
      "text/plain": [
       "   UserID                                         text_clean\n",
       "0    7868  the luzhin defence good film fine central perf...\n",
       "1   25016  cannon movie tale worst lot positive proof fiv...\n",
       "2   10668  full length feature film world bridge found fi...\n",
       "3   14640  soloist ingredients impress academy director j...\n",
       "4   15018  saw back finally released apparently orion pic..."
      ]
     },
     "execution_count": 55,
     "metadata": {},
     "output_type": "execute_result"
    }
   ],
   "source": [
    "test_d = test.drop(['Unnamed: 0','ReviewText'], axis=1)\n",
    "test_d.head()"
   ]
  },
  {
   "cell_type": "code",
   "execution_count": 56,
   "metadata": {},
   "outputs": [
    {
     "data": {
      "text/plain": [
       "UserID        0\n",
       "text_clean    1\n",
       "dtype: int64"
      ]
     },
     "execution_count": 56,
     "metadata": {},
     "output_type": "execute_result"
    }
   ],
   "source": [
    "test_d.isnull().sum()"
   ]
  },
  {
   "cell_type": "code",
   "execution_count": 57,
   "metadata": {},
   "outputs": [],
   "source": [
    "test_data = test_d.dropna()"
   ]
  },
  {
   "cell_type": "code",
   "execution_count": 58,
   "metadata": {},
   "outputs": [
    {
     "data": {
      "text/plain": [
       "UserID        0\n",
       "text_clean    0\n",
       "dtype: int64"
      ]
     },
     "execution_count": 58,
     "metadata": {},
     "output_type": "execute_result"
    }
   ],
   "source": [
    "test_data.isnull().sum()"
   ]
  },
  {
   "cell_type": "markdown",
   "metadata": {},
   "source": [
    "## applying LinearSVC model with highest accuracy"
   ]
  },
  {
   "cell_type": "code",
   "execution_count": 59,
   "metadata": {},
   "outputs": [],
   "source": [
    "test_predictions = pipeline1.predict(test_data['text_clean'])"
   ]
  },
  {
   "cell_type": "code",
   "execution_count": 60,
   "metadata": {},
   "outputs": [],
   "source": [
    "User_ID = test_data['UserID'].values"
   ]
  },
  {
   "cell_type": "code",
   "execution_count": 61,
   "metadata": {},
   "outputs": [
    {
     "data": {
      "text/plain": [
       "(8249,)"
      ]
     },
     "execution_count": 61,
     "metadata": {},
     "output_type": "execute_result"
    }
   ],
   "source": [
    "test_predictions.shape"
   ]
  },
  {
   "cell_type": "code",
   "execution_count": 62,
   "metadata": {},
   "outputs": [],
   "source": [
    "#the dataframe formation with predicted response for test data"
   ]
  },
  {
   "cell_type": "code",
   "execution_count": 63,
   "metadata": {},
   "outputs": [],
   "source": [
    "submission = pd.DataFrame({'UserID':User_ID,'Polarity':test_predictions})"
   ]
  },
  {
   "cell_type": "code",
   "execution_count": 64,
   "metadata": {},
   "outputs": [
    {
     "data": {
      "text/html": [
       "<div>\n",
       "<style scoped>\n",
       "    .dataframe tbody tr th:only-of-type {\n",
       "        vertical-align: middle;\n",
       "    }\n",
       "\n",
       "    .dataframe tbody tr th {\n",
       "        vertical-align: top;\n",
       "    }\n",
       "\n",
       "    .dataframe thead th {\n",
       "        text-align: right;\n",
       "    }\n",
       "</style>\n",
       "<table border=\"1\" class=\"dataframe\">\n",
       "  <thead>\n",
       "    <tr style=\"text-align: right;\">\n",
       "      <th></th>\n",
       "      <th>UserID</th>\n",
       "      <th>Polarity</th>\n",
       "    </tr>\n",
       "  </thead>\n",
       "  <tbody>\n",
       "    <tr>\n",
       "      <th>0</th>\n",
       "      <td>7868</td>\n",
       "      <td>1</td>\n",
       "    </tr>\n",
       "    <tr>\n",
       "      <th>1</th>\n",
       "      <td>25016</td>\n",
       "      <td>0</td>\n",
       "    </tr>\n",
       "    <tr>\n",
       "      <th>2</th>\n",
       "      <td>10668</td>\n",
       "      <td>1</td>\n",
       "    </tr>\n",
       "    <tr>\n",
       "      <th>3</th>\n",
       "      <td>14640</td>\n",
       "      <td>0</td>\n",
       "    </tr>\n",
       "    <tr>\n",
       "      <th>4</th>\n",
       "      <td>15018</td>\n",
       "      <td>0</td>\n",
       "    </tr>\n",
       "    <tr>\n",
       "      <th>...</th>\n",
       "      <td>...</td>\n",
       "      <td>...</td>\n",
       "    </tr>\n",
       "    <tr>\n",
       "      <th>8244</th>\n",
       "      <td>11802</td>\n",
       "      <td>0</td>\n",
       "    </tr>\n",
       "    <tr>\n",
       "      <th>8245</th>\n",
       "      <td>8160</td>\n",
       "      <td>1</td>\n",
       "    </tr>\n",
       "    <tr>\n",
       "      <th>8246</th>\n",
       "      <td>3499</td>\n",
       "      <td>1</td>\n",
       "    </tr>\n",
       "    <tr>\n",
       "      <th>8247</th>\n",
       "      <td>13899</td>\n",
       "      <td>0</td>\n",
       "    </tr>\n",
       "    <tr>\n",
       "      <th>8248</th>\n",
       "      <td>19149</td>\n",
       "      <td>1</td>\n",
       "    </tr>\n",
       "  </tbody>\n",
       "</table>\n",
       "<p>8249 rows × 2 columns</p>\n",
       "</div>"
      ],
      "text/plain": [
       "      UserID  Polarity\n",
       "0       7868         1\n",
       "1      25016         0\n",
       "2      10668         1\n",
       "3      14640         0\n",
       "4      15018         0\n",
       "...      ...       ...\n",
       "8244   11802         0\n",
       "8245    8160         1\n",
       "8246    3499         1\n",
       "8247   13899         0\n",
       "8248   19149         1\n",
       "\n",
       "[8249 rows x 2 columns]"
      ]
     },
     "execution_count": 64,
     "metadata": {},
     "output_type": "execute_result"
    }
   ],
   "source": [
    "submission "
   ]
  },
  {
   "cell_type": "code",
   "execution_count": 65,
   "metadata": {},
   "outputs": [],
   "source": [
    "#csv file containing UserID and predicted Response in a csv file for test data"
   ]
  },
  {
   "cell_type": "code",
   "execution_count": 66,
   "metadata": {},
   "outputs": [],
   "source": [
    "submission.to_csv('SUBMISSION.csv')"
   ]
  },
  {
   "cell_type": "code",
   "execution_count": null,
   "metadata": {},
   "outputs": [],
   "source": []
  }
 ],
 "metadata": {
  "kernelspec": {
   "display_name": "Python 3",
   "language": "python",
   "name": "python3"
  },
  "language_info": {
   "codemirror_mode": {
    "name": "ipython",
    "version": 3
   },
   "file_extension": ".py",
   "mimetype": "text/x-python",
   "name": "python",
   "nbconvert_exporter": "python",
   "pygments_lexer": "ipython3",
   "version": "3.7.6"
  }
 },
 "nbformat": 4,
 "nbformat_minor": 4
}
